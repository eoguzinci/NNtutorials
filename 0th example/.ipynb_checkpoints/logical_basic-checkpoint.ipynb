{
 "cells": [
  {
   "cell_type": "markdown",
   "metadata": {},
   "source": [
    "## Import necessary libraries"
   ]
  },
  {
   "cell_type": "code",
   "execution_count": 1,
   "metadata": {
    "collapsed": true
   },
   "outputs": [],
   "source": [
    "import pandas as pd\n",
    "import numpy as np"
   ]
  },
  {
   "cell_type": "markdown",
   "metadata": {},
   "source": [
    "## Create Linear Classification Neural Network Model"
   ]
  },
  {
   "cell_type": "code",
   "execution_count": 3,
   "metadata": {
    "collapsed": false
   },
   "outputs": [],
   "source": [
    "class NN(object):\n",
    "    \"\"\"docstring for NN\"\"\"\n",
    "    def __init__(self):\n",
    "        # seed the random number generator\n",
    "        np.random.seed(1)\n",
    "        # init weights\n",
    "        self.weights = []\n",
    "        self.bias = []\n",
    "    \n",
    "    def sigmoid(self, x, deriv=False):\n",
    "        if deriv == True:\n",
    "            return x * (1-x)\n",
    "        return 1 / (1 + np.exp(-x))\n",
    "\n",
    "    # forward propagation\n",
    "    def predict(self, X):\n",
    "        output = np.dot(X, self.weights) + self.bias\n",
    "        return self.sigmoid(output)\n",
    "\n",
    "    def train(self, X, y, iterations):\n",
    "        dim = X.shape # dimensions of the input\n",
    "        # assign random weights with values range from -1 to 1 and 0 mean\n",
    "        self.weights = 2*np.random.random((dim[1],1)) - 1\n",
    "        self.bias = 2*np.random.random() - 1\n",
    "\n",
    "        # backpropagation\n",
    "        for i in range(iterations):\n",
    "            # for each iteration we predict and calculate the error from ground truth\n",
    "            output = self.predict(X)\n",
    "            error = output - y\n",
    "\n",
    "            # then, we calculate the adjustments to be done to weights\n",
    "            dw = np.dot(X.T, error * self.sigmoid(output, deriv=True))\n",
    "            db = np.dot(np.array([1,1,1,1]).T, error * self.sigmoid(output, deriv=True))\n",
    "\n",
    "            # finally, correct the weights\n",
    "            self.weights -= dw\n",
    "            self.bias -= db"
   ]
  },
  {
   "cell_type": "markdown",
   "metadata": {},
   "source": [
    "## Feed the data"
   ]
  },
  {
   "cell_type": "code",
   "execution_count": 4,
   "metadata": {
    "collapsed": true
   },
   "outputs": [],
   "source": [
    "X = np.array([[0,0,1],[1,1,1],[1,0,1],[0,1,1]])\n",
    "y = np.array([[0,1,1,0]]).T"
   ]
  },
  {
   "cell_type": "markdown",
   "metadata": {},
   "source": [
    "## Create a NN object"
   ]
  },
  {
   "cell_type": "code",
   "execution_count": 5,
   "metadata": {
    "collapsed": true
   },
   "outputs": [],
   "source": [
    "# init neural network\n",
    "clf = NN()"
   ]
  },
  {
   "cell_type": "markdown",
   "metadata": {},
   "source": [
    "## Train the Network"
   ]
  },
  {
   "cell_type": "code",
   "execution_count": 6,
   "metadata": {
    "collapsed": false
   },
   "outputs": [
    {
     "name": "stdout",
     "output_type": "stream",
     "text": [
      "Weights after training:\n",
      "[[ 7.34684782]\n",
      " [-0.11699625]\n",
      " [-2.08062539]]\n",
      "Bias after training:\n",
      "[-1.47618899]\n"
     ]
    }
   ],
   "source": [
    "# number of iterations\n",
    "num_iter = 1000\n",
    "\n",
    "# Train\n",
    "clf.train(X, y, num_iter)\n",
    "\n",
    "print('Weights after training:')\n",
    "print(clf.weights)\n",
    "print('Bias after training:')\n",
    "print(clf.bias)"
   ]
  },
  {
   "cell_type": "markdown",
   "metadata": {},
   "source": [
    "## Evaluate Model"
   ]
  },
  {
   "cell_type": "code",
   "execution_count": 7,
   "metadata": {
    "collapsed": false
   },
   "outputs": [
    {
     "name": "stdout",
     "output_type": "stream",
     "text": [
      "Predicting:\n",
      "[0.99683888]\n",
      "Correct\n"
     ]
    }
   ],
   "source": [
    "test_array = [1,1,0]\n",
    "test_label = 1\n",
    "print('Predicting:')\n",
    "result = clf.predict(test_array)\n",
    "\n",
    "epsilon = 0.01\n",
    "print(result)\n",
    "if abs(result - test_label) < epsilon:\n",
    "    print('Correct')\n",
    "else:\n",
    "    print('False')"
   ]
  },
  {
   "cell_type": "code",
   "execution_count": null,
   "metadata": {
    "collapsed": true
   },
   "outputs": [],
   "source": []
  }
 ],
 "metadata": {
  "anaconda-cloud": {},
  "kernelspec": {
   "display_name": "Python [default]",
   "language": "python",
   "name": "python3"
  },
  "language_info": {
   "codemirror_mode": {
    "name": "ipython",
    "version": 3
   },
   "file_extension": ".py",
   "mimetype": "text/x-python",
   "name": "python",
   "nbconvert_exporter": "python",
   "pygments_lexer": "ipython3",
   "version": "3.5.2"
  }
 },
 "nbformat": 4,
 "nbformat_minor": 1
}
