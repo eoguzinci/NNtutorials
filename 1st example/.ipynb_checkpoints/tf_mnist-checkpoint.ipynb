{
 "cells": [
  {
   "cell_type": "code",
   "execution_count": 1,
   "metadata": {
    "collapsed": false
   },
   "outputs": [
    {
     "data": {
      "text/plain": [
       "sys.version_info(major=3, minor=5, micro=2, releaselevel='final', serial=0)"
      ]
     },
     "execution_count": 1,
     "metadata": {},
     "output_type": "execute_result"
    }
   ],
   "source": [
    "# Check python version\n",
    "import sys\n",
    "sys.version\n",
    "sys.version_info"
   ]
  },
  {
   "cell_type": "markdown",
   "metadata": {},
   "source": [
    "## Libraries\n",
    "\n",
    "We include:\n",
    "\n",
    "* tensorflow: for building and training networks\n",
    "* numpy: for linear algebra and matrix/vector storage\n",
    "* matplotlib: for data visualization"
   ]
  },
  {
   "cell_type": "code",
   "execution_count": 2,
   "metadata": {
    "collapsed": true
   },
   "outputs": [],
   "source": [
    "# Include libraries\n",
    "import tensorflow as tf\n",
    "import numpy as np\n",
    "import matplotlib.pyplot as plt\n",
    "# Visualizations will be shown in the notebook.\n",
    "%matplotlib inline\n",
    "import random"
   ]
  },
  {
   "cell_type": "markdown",
   "metadata": {},
   "source": [
    "## Data Import\n",
    "\n",
    "Let's import the MNIST data within the tensorflow."
   ]
  },
  {
   "cell_type": "code",
   "execution_count": 3,
   "metadata": {
    "collapsed": false
   },
   "outputs": [
    {
     "name": "stdout",
     "output_type": "stream",
     "text": [
      "Extracting /tmp/data/train-images-idx3-ubyte.gz\n",
      "Extracting /tmp/data/train-labels-idx1-ubyte.gz\n",
      "Extracting /tmp/data/t10k-images-idx3-ubyte.gz\n",
      "Extracting /tmp/data/t10k-labels-idx1-ubyte.gz\n"
     ]
    }
   ],
   "source": [
    "# Import MNIST data\n",
    "from tensorflow.examples.tutorials.mnist import input_data\n",
    "mnist = input_data.read_data_sets(\"/tmp/data/\", one_hot=True)\n",
    "\n",
    "#  \n",
    "train_features = mnist.train.images\n",
    "valid_features = mnist.validation.images\n",
    "test_features = mnist.test.images\n",
    "\n",
    "train_labels = mnist.train.labels.astype(np.float32)\n",
    "valid_labels = mnist.validation.labels.astype(np.float32)\n",
    "test_labels = mnist.test.labels.astype(np.float32)\n",
    "del mnist"
   ]
  },
  {
   "cell_type": "markdown",
   "metadata": {},
   "source": [
    "## Analyze the Data"
   ]
  },
  {
   "cell_type": "code",
   "execution_count": 4,
   "metadata": {
    "collapsed": false
   },
   "outputs": [
    {
     "name": "stdout",
     "output_type": "stream",
     "text": [
      "Training size:  55000\n",
      "Validation size:  5000\n",
      "Test size:  10000\n",
      "Image data shape = (784,)\n",
      "Number of features = 784\n",
      "Number of classes = 10\n"
     ]
    }
   ],
   "source": [
    "# number of testing and training samples\n",
    "n_train = len(train_features)\n",
    "n_valid = len(valid_features)\n",
    "n_test = len(test_features)\n",
    "print(\"Training size: \", n_train)\n",
    "print(\"Validation size: \", n_valid)\n",
    "print(\"Test size: \", n_test)\n",
    "\n",
    "# What's the shape of an image?\n",
    "image_shape = train_features[0].shape\n",
    "n_features = image_shape[0]\n",
    "\n",
    "# How many unique classes/labels there are in the dataset?\n",
    "n_classes = len(np.unique(train_labels, axis=0))\n",
    "\n",
    "print(\"Image data shape =\", image_shape)\n",
    "print(\"Number of features =\", n_features)\n",
    "print(\"Number of classes =\", n_classes)"
   ]
  },
  {
   "cell_type": "code",
   "execution_count": 5,
   "metadata": {
    "collapsed": false
   },
   "outputs": [
    {
     "data": {
      "image/png": "[encoded data removed]",
      "text/plain": [
       "<matplotlib.figure.Figure at 0x26366952358>"
      ]
     },
     "metadata": {},
     "output_type": "display_data"
    }
   ],
   "source": [
    "# histogram for labels\n",
    "plt.figure(figsize=(15,10))\n",
    "decoding = tf.argmax(train_labels, axis=1)\n",
    "# ...\n",
    "with tf.Session() as sess:\n",
    "    decoded_train_labels = sess.run(decoding)\n",
    "    \n",
    "plt.hist(decoded_train_labels, bins=n_classes, histtype='bar', align='mid', orientation='vertical')\n",
    "plt.title(\"Frequency histogram\")\n",
    "plt.xlabel(\"labels\")\n",
    "plt.ylabel(\"frequency\")\n",
    "plt.show()"
   ]
  },
  {
   "cell_type": "markdown",
   "metadata": {},
   "source": [
    "## Visualize Data Sample\n",
    "\n",
    "Visualize a random input and its label."
   ]
  },
  {
   "cell_type": "code",
   "execution_count": 6,
   "metadata": {
    "collapsed": false
   },
   "outputs": [
    {
     "name": "stdout",
     "output_type": "stream",
     "text": [
      "Label of the image:  [1]\n"
     ]
    },
    {
     "data": {
      "image/png": "[encoded data removed]",
      "text/plain": [
       "<matplotlib.figure.Figure at 0x263545c6668>"
      ]
     },
     "metadata": {},
     "output_type": "display_data"
    }
   ],
   "source": [
    "import random\n",
    "index = random.randint(0, len(train_features))\n",
    "image = np.reshape(train_features[index],(28,28))\n",
    "\n",
    "#select a random image from the training set and visualize it\n",
    "plt.figure(figsize=(2,2))\n",
    "plt.imshow(image, cmap='gray')\n",
    "sample_label = np.where(train_labels[index] == 1)[0] # label of the image\n",
    "print(\"Label of the image: \", sample_label)"
   ]
  },
  {
   "cell_type": "code",
   "execution_count": 7,
   "metadata": {
    "collapsed": false
   },
   "outputs": [],
   "source": [
    "# tf Graph Input\n",
    "x = tf.placeholder(tf.float32, [None, n_features]) # mnist data image of shape 28*28=784\n",
    "y = tf.placeholder(tf.float32, [None, n_classes]) # 0-9 digits recognition => 10 classes\n",
    "\n",
    "# Set model weights\n",
    "W = tf.Variable(tf.random_normal([n_features, n_classes]))\n",
    "b = tf.Variable(tf.random_normal([n_classes]))\n",
    "\n",
    "# Construct model\n",
    "logits = tf.nn.softmax(tf.matmul(x, W) + b) # Softmax\n",
    "\n",
    "# Minimize error using cross entropy\n",
    "learning_rate = tf.placeholder(tf.float32)\n",
    "cost = tf.reduce_mean(-tf.reduce_sum(y*tf.log(logits), reduction_indices=1))\n",
    "\n",
    "# Use an SGD method to optimize\n",
    "optimizer = tf.train.GradientDescentOptimizer(learning_rate).minimize(cost)"
   ]
  },
  {
   "cell_type": "markdown",
   "metadata": {},
   "source": [
    "## Hyperparameters\n",
    "\n",
    "We need to set the hyperparameters which are:\n",
    "\n",
    "* learning rate, \n",
    "* number of batches, \n",
    "* number of epochs."
   ]
  },
  {
   "cell_type": "code",
   "execution_count": 25,
   "metadata": {
    "collapsed": true
   },
   "outputs": [],
   "source": [
    "learn_rate = 0.01\n",
    "epochs = 100\n",
    "batch_size = 128"
   ]
  },
  {
   "cell_type": "markdown",
   "metadata": {},
   "source": [
    "## Training\n",
    "\n",
    "Now, it is time to optimize our weights and biases to obtain the best model to predict hand written digits."
   ]
  },
  {
   "cell_type": "code",
   "execution_count": 26,
   "metadata": {
    "collapsed": false
   },
   "outputs": [
    {
     "name": "stdout",
     "output_type": "stream",
     "text": [
      "Epoch: 0001 cost= 8.874447811\n",
      "Epoch: 0002 cost= 5.233251438\n",
      "Epoch: 0003 cost= 3.761282817\n",
      "Epoch: 0004 cost= 2.985743991\n",
      "Epoch: 0005 cost= 2.517162576\n",
      "Epoch: 0006 cost= 2.203745642\n",
      "Epoch: 0007 cost= 1.979173143\n",
      "Epoch: 0008 cost= 1.810085990\n",
      "Epoch: 0009 cost= 1.677847310\n",
      "Epoch: 0010 cost= 1.571429105\n",
      "Epoch: 0011 cost= 1.483909053\n",
      "Epoch: 0012 cost= 1.410625784\n",
      "Epoch: 0013 cost= 1.348296610\n",
      "Epoch: 0014 cost= 1.294552891\n",
      "Epoch: 0015 cost= 1.247652955\n",
      "Epoch: 0016 cost= 1.206295990\n",
      "Epoch: 0017 cost= 1.169494245\n",
      "Epoch: 0018 cost= 1.136486218\n",
      "Epoch: 0019 cost= 1.106675955\n",
      "Epoch: 0020 cost= 1.079589959\n",
      "Epoch: 0021 cost= 1.054845613\n",
      "Epoch: 0022 cost= 1.032129101\n",
      "Epoch: 0023 cost= 1.011180140\n",
      "Epoch: 0024 cost= 0.991781536\n",
      "Epoch: 0025 cost= 0.973750778\n",
      "Epoch: 0026 cost= 0.956933682\n",
      "Epoch: 0027 cost= 0.941199252\n",
      "Epoch: 0028 cost= 0.926435531\n",
      "Epoch: 0029 cost= 0.912546084\n",
      "Epoch: 0030 cost= 0.899447480\n",
      "Epoch: 0031 cost= 0.887067073\n",
      "Epoch: 0032 cost= 0.875341194\n",
      "Epoch: 0033 cost= 0.864213885\n",
      "Epoch: 0034 cost= 0.853635589\n",
      "Epoch: 0035 cost= 0.843562353\n",
      "Epoch: 0036 cost= 0.833954890\n",
      "Epoch: 0037 cost= 0.824778097\n",
      "Epoch: 0038 cost= 0.816000410\n",
      "Epoch: 0039 cost= 0.807593394\n",
      "Epoch: 0040 cost= 0.799531263\n",
      "Epoch: 0041 cost= 0.791790712\n",
      "Epoch: 0042 cost= 0.784350486\n",
      "Epoch: 0043 cost= 0.777191259\n",
      "Epoch: 0044 cost= 0.770295408\n",
      "Epoch: 0045 cost= 0.763646800\n",
      "Epoch: 0046 cost= 0.757230679\n",
      "Epoch: 0047 cost= 0.751033487\n",
      "Epoch: 0048 cost= 0.745042798\n",
      "Epoch: 0049 cost= 0.739247150\n",
      "Epoch: 0050 cost= 0.733635912\n",
      "Epoch: 0051 cost= 0.728199290\n",
      "Epoch: 0052 cost= 0.722928291\n",
      "Epoch: 0053 cost= 0.717814508\n",
      "Epoch: 0054 cost= 0.712850129\n",
      "Epoch: 0055 cost= 0.708027792\n",
      "Epoch: 0056 cost= 0.703340830\n",
      "Epoch: 0057 cost= 0.698782821\n",
      "Epoch: 0058 cost= 0.694347855\n",
      "Epoch: 0059 cost= 0.690030399\n",
      "Epoch: 0060 cost= 0.685825228\n",
      "Epoch: 0061 cost= 0.681727403\n",
      "Epoch: 0062 cost= 0.677732363\n",
      "Epoch: 0063 cost= 0.673835710\n",
      "Epoch: 0064 cost= 0.670033424\n",
      "Epoch: 0065 cost= 0.666321603\n",
      "Epoch: 0066 cost= 0.662696611\n",
      "Epoch: 0067 cost= 0.659154972\n",
      "Epoch: 0068 cost= 0.655693439\n",
      "Epoch: 0069 cost= 0.652308899\n",
      "Epoch: 0070 cost= 0.648998433\n",
      "Epoch: 0071 cost= 0.645759261\n",
      "Epoch: 0072 cost= 0.642588734\n",
      "Epoch: 0073 cost= 0.639484358\n",
      "Epoch: 0074 cost= 0.636443753\n",
      "Epoch: 0075 cost= 0.633464640\n",
      "Epoch: 0076 cost= 0.630544855\n",
      "Epoch: 0077 cost= 0.627682386\n",
      "Epoch: 0078 cost= 0.624875288\n",
      "Epoch: 0079 cost= 0.622121668\n",
      "Epoch: 0080 cost= 0.619419749\n",
      "Epoch: 0081 cost= 0.616767858\n",
      "Epoch: 0082 cost= 0.614164400\n",
      "Epoch: 0083 cost= 0.611607802\n",
      "Epoch: 0084 cost= 0.609096613\n",
      "Epoch: 0085 cost= 0.606629419\n",
      "Epoch: 0086 cost= 0.604204872\n",
      "Epoch: 0087 cost= 0.601821681\n",
      "Epoch: 0088 cost= 0.599478613\n",
      "Epoch: 0089 cost= 0.597174494\n",
      "Epoch: 0090 cost= 0.594908218\n",
      "Epoch: 0091 cost= 0.592678666\n",
      "Epoch: 0092 cost= 0.590484828\n",
      "Epoch: 0093 cost= 0.588325701\n",
      "Epoch: 0094 cost= 0.586200298\n",
      "Epoch: 0095 cost= 0.584107751\n",
      "Epoch: 0096 cost= 0.582047123\n",
      "Epoch: 0097 cost= 0.580017594\n",
      "Epoch: 0098 cost= 0.578018339\n",
      "Epoch: 0099 cost= 0.576048578\n",
      "Epoch: 0100 cost= 0.574107542\n",
      "Training Completed!\n",
      "Model saved\n"
     ]
    }
   ],
   "source": [
    "# For saving the model\n",
    "saver = tf.train.Saver()\n",
    "# Start training\n",
    "with tf.Session() as sess:\n",
    "    sess.run(tf.global_variables_initializer())\n",
    "\n",
    "    # Training cycle\n",
    "    for epoch in range(epochs):\n",
    "        avg_cost = 0.\n",
    "        total_batch = int(n_train/batch_size)\n",
    "        # Loop over all batches\n",
    "        for i in range(total_batch):\n",
    "            batch_x = train_features[i*batch_size:(i+1)*batch_size]\n",
    "            batch_y = train_labels[i*batch_size:(i+1)*batch_size]\n",
    "            # Fit training using batch data\n",
    "            _, c = sess.run([optimizer, cost], feed_dict={x: batch_x, \n",
    "                                                          y: batch_y, \n",
    "                                                          learning_rate: learn_rate})\n",
    "            # Compute average loss\n",
    "            avg_cost += c / total_batch\n",
    "        \n",
    "        # Display logs per epoch step\n",
    "        print (\"Epoch:\", '%04d' % (epoch+1), \"cost=\", \"{:.9f}\".format(avg_cost))\n",
    "\n",
    "    print (\"Training Completed!\")\n",
    "    saver.save(sess, './linear')\n",
    "    print(\"Model saved\")"
   ]
  },
  {
   "cell_type": "code",
   "execution_count": 27,
   "metadata": {
    "collapsed": false
   },
   "outputs": [
    {
     "name": "stdout",
     "output_type": "stream",
     "text": [
      "Accuracy: 0.8340001\n"
     ]
    }
   ],
   "source": [
    "# Test model\n",
    "correct_prediction = tf.equal(tf.argmax(logits, 1), tf.argmax(y, 1))\n",
    "\n",
    "# Calculate accuracy for 3000 examples\n",
    "accuracy = tf.reduce_mean(tf.cast(correct_prediction, tf.float32))\n",
    "\n",
    "with tf.Session() as sess:\n",
    "    saver.restore(sess, tf.train.latest_checkpoint('.'))\n",
    "    print (\"Accuracy:\", accuracy.eval({x: test_features[:3000], y: test_labels[:3000]}))"
   ]
  },
  {
   "cell_type": "code",
   "execution_count": null,
   "metadata": {
    "collapsed": true
   },
   "outputs": [],
   "source": []
  }
 ],
 "metadata": {
  "anaconda-cloud": {},
  "kernelspec": {
   "display_name": "Python [default]",
   "language": "python",
   "name": "python3"
  },
  "language_info": {
   "codemirror_mode": {
    "name": "ipython",
    "version": 3
   },
   "file_extension": ".py",
   "mimetype": "text/x-python",
   "name": "python",
   "nbconvert_exporter": "python",
   "pygments_lexer": "ipython3",
   "version": "3.5.2"
  }
 },
 "nbformat": 4,
 "nbformat_minor": 1
}
